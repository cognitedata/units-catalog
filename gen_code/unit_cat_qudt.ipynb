{
 "cells": [
  {
   "cell_type": "code",
   "execution_count": null,
   "metadata": {},
   "outputs": [],
   "source": [
    "import pandas as pd \n",
    "from src.qudt import qudt_kg"
   ]
  },
  {
   "cell_type": "code",
   "execution_count": null,
   "metadata": {},
   "outputs": [],
   "source": [
    "# init qudt knowledge graph\n",
    "qkg = qudt_kg()"
   ]
  },
  {
   "cell_type": "markdown",
   "metadata": {},
   "source": [
    "## Define list of quantities\n",
    "the list here is based on a preselection from Everton"
   ]
  },
  {
   "cell_type": "code",
   "execution_count": null,
   "metadata": {},
   "outputs": [],
   "source": [
    "quant_list = ['Acceleration', 'AmountOfSubstance', 'AmountOfSubstancePerUnitVolume','Angle', 'Area', 'Density', 'Dimensionless', 'DimensionlessRatio', \n",
    " 'DynamicViscosity', 'ElectricCurrent',  'ElectricPotential', 'Energy', 'EnergyDensity',  'Force', 'Length', 'Mass',\n",
    " 'MassConcentration',  'MassFlowRate', 'Permeability', 'Power', 'Pressure', \n",
    " 'SoundPressure',  'SurfaceTension',  'Temperature', 'Time',  'Volume', 'VolumeFlowRate',  'VolumeFraction']\n",
    "\n",
    "qudtquants = [(q, qkg.get_quant(q)) for q in quant_list if qkg.get_quant(q)]\n",
    "qudtquants"
   ]
  },
  {
   "cell_type": "markdown",
   "metadata": {},
   "source": [
    "## Iterate through QUDT to collect unit_systems and unit_catalogues\n",
    "\n",
    "* iterate through quanties from list\n",
    "* for each quantity find units that belong to SI or Imperial (see `unitsys`)\n",
    "* each unit is validated by `PhysUnit` schema\n",
    "* export all units as `unitcatalogue.json` \n",
    "* and selected for `unitsystems`\n",
    "\n",
    "the applicabale unit systems in qudt are encoded as `qudt:applicableSystem sou:SI` and `qudt:applicableSystemsou:IMPERIAL`\n",
    "\n",
    "!! CAUTION!!\n",
    "* currelty selcection is by associated unit system\n",
    "* will change the preselction to curated list"
   ]
  },
  {
   "cell_type": "code",
   "execution_count": null,
   "metadata": {},
   "outputs": [],
   "source": [
    "# an example on retrieving all units for a quantity\n",
    "qkg.find_units_for_unitsystem(qudtquants[1][1] , \"http://qudt.org/vocab/sou/SI\")"
   ]
  },
  {
   "cell_type": "markdown",
   "metadata": {},
   "source": [
    "### for each unit system retrieve relevant units\n"
   ]
  },
  {
   "cell_type": "code",
   "execution_count": null,
   "metadata": {},
   "outputs": [],
   "source": [
    "systems = {\"SI\": \"http://qudt.org/vocab/sou/SI\",\n",
    "    \"Imperial\": \"http://qudt.org/vocab/sou/IMPERIAL\"}\n",
    "\n",
    "unitsystem = {}\n",
    "\n",
    "for syskey, sys_uri in systems.items():\n",
    "    ulist = []\n",
    "    for (qname, q_uri) in qudtquants:\n",
    "        ul = qkg.find_units_for_unitsystem(q_uri, sys_uri)\n",
    "        ulist = ulist + ul\n",
    "        if not ul:\n",
    "            print(\"No units found for \", qname, \"\\t\\t in \", syskey)\n",
    "    \n",
    "    unitsystem[syskey] = ulist "
   ]
  },
  {
   "cell_type": "markdown",
   "metadata": {},
   "source": [
    "### Validate all units in unitcatalogue and export"
   ]
  },
  {
   "cell_type": "code",
   "execution_count": null,
   "metadata": {},
   "outputs": [],
   "source": [
    "from src.utils import to_json\n",
    "from datetime import date\n",
    "from src.unit_dm import PhysUnit, UnitConv\n",
    "from rdflib import Namespace, URIRef, RDFS\n",
    "from src.qudt import get_qudt_prefixes_inrange\n",
    "\n",
    "dcterms = Namespace(\"http://purl.org/dc/terms/\")"
   ]
  },
  {
   "cell_type": "code",
   "execution_count": null,
   "metadata": {},
   "outputs": [],
   "source": [
    "allowed_multiplierrange= [1e-6, 1e6]\n",
    "allowed_prefixes = get_qudt_prefixes_inrange(multiplierrange= allowed_multiplierrange) + [\"\"]"
   ]
  },
  {
   "cell_type": "code",
   "execution_count": null,
   "metadata": {},
   "outputs": [],
   "source": [
    "# validate each unit (apply schema and point triples to right field)\n",
    "unit_catalogue = {}\n",
    "\n",
    "for _, ulist in unitsystem.items():\n",
    "    \n",
    "    for (unit, quant) in ulist:\n",
    "        #print(unit)\n",
    "        unit=URIRef(unit)\n",
    "        quant=URIRef(quant)\n",
    "        ##print( )\n",
    "        \n",
    "        aliases = [o.toPython() for o in qkg.unit_graph.objects(subject=unit, predicate=RDFS.label) if o.language in [\"en\", \"en-us\", \"\"]] or [\"\"]       \n",
    "        conversion = UnitConv(multiplier= ([str(o) for o in qkg.unit_graph.objects(subject=unit, predicate=qkg.QUDT.conversionMultiplier)] or [1.0])[0],\n",
    "                                offset = ([str(o) for o in qkg.unit_graph.objects(subject=unit, predicate=qkg.QUDT.conversionOffset)] or [0.0])[0] )\n",
    "        \n",
    "        ## check if prefix in allowed prefixlist and conversion in range\n",
    "        ## units not perfectly curated (eg see http://qudt.org/vocab/unit/FemtoMOL)       \n",
    "        unit_prefix = [p.toPython() for p in qkg.unit_graph.objects(subject=unit, predicate=qkg.QUDT.prefix)] or [\"\"]\n",
    "        if (unit_prefix[0] in allowed_prefixes) and (min(allowed_multiplierrange) <= conversion.multiplier <= max(allowed_multiplierrange)):\n",
    "            #print(\"prefix:\", unit_prefix[0], \"  unit:\", unit)\n",
    "            pu = PhysUnit(\n",
    "                    name = unit.split(\"/\")[-1] ,\n",
    "                    quantity = quant.split(\"/\")[-1],\n",
    "                    #symbol = ([o.toPython() for o in qkg.unit_graph.objects(subject=unit, predicate=qkg.QUDT.symbol)] or [None])[0],\n",
    "                    longName = aliases[0],\n",
    "                    aliasNames = aliases,\n",
    "                    conversion = conversion,\n",
    "                    #description = ([o.toPython() for o in qkg.unit_graph.objects(subject=unit, predicate=dcterms.description)] or [None])[0],\n",
    "                    sourceReference = unit,\n",
    "                    source = \"qudt.org\"\n",
    "                ).model_dump()\n",
    "            # print(pu)\n",
    "            unit_catalogue[pu[\"externalId\"]] = pu"
   ]
  },
  {
   "cell_type": "code",
   "execution_count": null,
   "metadata": {},
   "outputs": [],
   "source": [
    "len(unit_catalogue)"
   ]
  },
  {
   "cell_type": "code",
   "execution_count": null,
   "metadata": {},
   "outputs": [],
   "source": [
    "version = 1\n",
    "subversion = 1\n",
    "to_json(unit_catalogue, file=\"./data/V\" + f\"{version:01d}\" + \".\" + f\"{subversion:02d}\" +  \"_units.json\")"
   ]
  },
  {
   "cell_type": "markdown",
   "metadata": {},
   "source": [
    "### Export unitsystems"
   ]
  },
  {
   "cell_type": "code",
   "execution_count": null,
   "metadata": {},
   "outputs": [],
   "source": [
    "# load default unit systems\n",
    "dudf = pd.read_excel(\"./data/V1_defaultunits.xlsx\")\n",
    "\n",
    "# check if refrenced units are in unitcatalogue (needs to be empty)\n",
    "dudf[\"unit\"][dudf[\"unit\"].apply(lambda x: x not in unit_catalogue)]"
   ]
  },
  {
   "cell_type": "code",
   "execution_count": null,
   "metadata": {},
   "outputs": [],
   "source": [
    "# convert to strucutre and dump into json\n",
    "default_units = []\n",
    "\n",
    "for usys, g in dudf.groupby(\"usys\", sort=False):\n",
    "    print(usys)\n",
    "    \n",
    "    default_units.append(\n",
    "        {\"name\": usys, \n",
    "        \"qunatities\": [{\"name\":  r[\"quantity\"], \"unitExternalId\": r[\"unit\"]} for _, r in g.iterrows()]\n",
    "    })\n",
    "\n",
    "to_json(default_units, file=\"./data/V\" + f\"{version:01d}\" + \".\" + f\"{subversion:02d}\" +  \"_unitSystems.json\")"
   ]
  }
 ],
 "metadata": {
  "kernelspec": {
   "display_name": "parseunit-env-N7BhW8GU-py3.9",
   "language": "python",
   "name": "python3"
  },
  "language_info": {
   "codemirror_mode": {
    "name": "ipython",
    "version": 3
   },
   "file_extension": ".py",
   "mimetype": "text/x-python",
   "name": "python",
   "nbconvert_exporter": "python",
   "pygments_lexer": "ipython3",
   "version": "3.11.4"
  },
  "orig_nbformat": 4
 },
 "nbformat": 4,
 "nbformat_minor": 2
}
